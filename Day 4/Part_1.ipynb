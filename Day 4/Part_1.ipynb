{
 "cells": [
  {
   "cell_type": "code",
   "execution_count": 1,
   "id": "cd4249d4",
   "metadata": {},
   "outputs": [],
   "source": [
    "import random\n",
    "import matplotlib.pyplot as plt\n",
    "import math\n",
    "import numpy as np\n",
    "import scipy.stats"
   ]
  },
  {
   "cell_type": "code",
   "execution_count": 2,
   "id": "c2311c36",
   "metadata": {},
   "outputs": [
    {
     "name": "stdout",
     "output_type": "stream",
     "text": [
      "Using crude Monte Carlo estimator: \n",
      "1.702979190136984\n"
     ]
    }
   ],
   "source": [
    "def monte_carlo_simulation(runs):\n",
    "    sum = 0;\n",
    "    for i in range(runs):\n",
    "        xi = math.pow((np.e),(random.uniform(0,1)))\n",
    "        sum+=xi\n",
    "    return sum/runs\n",
    "\n",
    "print(\"Using crude Monte Carlo estimator: \")\n",
    "print(monte_carlo_simulation(100))"
   ]
  },
  {
   "cell_type": "code",
   "execution_count": 3,
   "id": "1be3747c",
   "metadata": {},
   "outputs": [
    {
     "name": "stdout",
     "output_type": "stream",
     "text": [
      "Using an antithetic variable simulation: \n",
      "1.726597875091214\n"
     ]
    }
   ],
   "source": [
    "def antithetic_variable_simulation(runs):\n",
    "    sum = 0;\n",
    "    for i in range(runs):\n",
    "        e_ui = math.pow((np.e),(random.uniform(0,1)))\n",
    "        yi = (e_ui+(np.e/e_ui))/2\n",
    "        sum+=yi\n",
    "    return sum/runs\n",
    "\n",
    "print(\"Using an antithetic variable simulation: \")\n",
    "print(antithetic_variable_simulation(100))"
   ]
  },
  {
   "cell_type": "code",
   "execution_count": 4,
   "id": "3342101f",
   "metadata": {},
   "outputs": [
    {
     "data": {
      "text/plain": [
       "1.724224637195179"
      ]
     },
     "execution_count": 4,
     "metadata": {},
     "output_type": "execute_result"
    }
   ],
   "source": [
    "def control_variates_simulation(runs):\n",
    "    U = []\n",
    "    X = []\n",
    "    for i in range(runs):\n",
    "        u_i = random.uniform(0, 1)\n",
    "        x_i = math.exp(u_i)\n",
    "        U.append(u_i)\n",
    "        X.append(x_i)\n",
    "    \n",
    "    cov = np.cov(X, U)[0][1]\n",
    "    c = -cov/np.var(U)\n",
    "    \n",
    "    zi=0\n",
    "    for i in range(runs):\n",
    "        zi+=X[i] + c*(U[i] - 0.5)        \n",
    "    return zi / runs\n",
    "\n",
    "control_variates_simulation(100)"
   ]
  },
  {
   "cell_type": "code",
   "execution_count": 5,
   "id": "8ecf6a8f",
   "metadata": {},
   "outputs": [
    {
     "data": {
      "text/plain": [
       "1.7198053467754275"
      ]
     },
     "execution_count": 5,
     "metadata": {},
     "output_type": "execute_result"
    }
   ],
   "source": [
    "def stratified_sampling_simulation(runs):\n",
    "    wi = 0\n",
    "    for i in range(runs):\n",
    "        u1_10 = np.random.uniform(0,1,10)\n",
    "        wj = 0\n",
    "        for j in range(10):\n",
    "            wj+=math.exp((j/10) + u1_10[j]/10)\n",
    "        wi+=wj/10\n",
    "        \n",
    "            \n",
    "    return wi/runs\n",
    "   \n",
    "    \n",
    "\n",
    "\n",
    "stratified_sampling_simulation(100)"
   ]
  },
  {
   "cell_type": "code",
   "execution_count": null,
   "id": "1350acd5",
   "metadata": {},
   "outputs": [],
   "source": []
  }
 ],
 "metadata": {
  "kernelspec": {
   "display_name": "Python 3 (ipykernel)",
   "language": "python",
   "name": "python3"
  },
  "language_info": {
   "codemirror_mode": {
    "name": "ipython",
    "version": 3
   },
   "file_extension": ".py",
   "mimetype": "text/x-python",
   "name": "python",
   "nbconvert_exporter": "python",
   "pygments_lexer": "ipython3",
   "version": "3.10.11"
  }
 },
 "nbformat": 4,
 "nbformat_minor": 5
}

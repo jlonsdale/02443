{
 "cells": [
  {
   "cell_type": "code",
   "execution_count": 3,
   "id": "cb18399d",
   "metadata": {},
   "outputs": [],
   "source": [
    "import random\n",
    "import matplotlib.pyplot as plt\n",
    "import math\n",
    "import scipy.stats\n",
    "import numpy as np"
   ]
  },
  {
   "cell_type": "code",
   "execution_count": 4,
   "id": "bc3023e6",
   "metadata": {},
   "outputs": [],
   "source": [
    "class Station:\n",
    "    def __init__(self, size):\n",
    "        self.size=size\n",
    "        self.spaces=[0]*size\n",
    "        self.happy_ships=0\n",
    "        self.sad_ships=0\n",
    "        self.event_log=[]\n",
    "    \n",
    "    def dock_ship(self):\n",
    "        try:\n",
    "            empty_space = self.spaces.index(0)\n",
    "            self.spaces[empty_space] = 1\n",
    "            self.happy_ships+=1\n",
    "            return True\n",
    "        except ValueError:\n",
    "            self.sad_ships+=1\n",
    "            return False\n",
    "        \n",
    "    def depart_ship(self):\n",
    "        try:\n",
    "            full_space = self.spaces.index(1)\n",
    "            self.spaces[full_space]=0\n",
    "            return True\n",
    "        except ValueError:\n",
    "            return False\n",
    "        \n",
    "    def get_reviews(self):\n",
    "        print('{} happy ships'.format(self.happy_ships))\n",
    "        print('{} sad ships'.format(self.sad_ships))\n",
    "        print('{} total ships'.format(self.sad_ships+self.happy_ships))\n",
    "        return(self.sad_ships/((self.sad_ships+self.happy_ships)))"
   ]
  },
  {
   "cell_type": "code",
   "execution_count": 9,
   "id": "3a802f88",
   "metadata": {},
   "outputs": [],
   "source": [
    "MEAN_TIME_BETWEEN_CUSTOMERS = 1\n",
    "MEAN_SERVICE_TIME = 8\n",
    "\n",
    "def generate_hyper_exponential():\n",
    "\n",
    "def run_simulation():\n",
    "    jess_station = Station(10)\n",
    "    arrival_times = scipy.stats.erlang.rvs(1, size = 1000)\n",
    "\n",
    "    arrival_schedule = np.cumsum(arrival_times)\n",
    "    depature_schedule = []\n",
    "\n",
    "    for i in range(3500):  \n",
    "        #check for arrivals\n",
    "        arriving_ships = [j for j in range(len(arrival_schedule)) if round(arrival_schedule[j]) == i]\n",
    "        if len(arriving_ships)>0:\n",
    "            number_of_arriving_ships = len(arriving_ships)\n",
    "            for ship in range(number_of_arriving_ships):      \n",
    "                successful_dock = jess_station.dock_ship()\n",
    "                if(successful_dock):\n",
    "                    rand_departure_time = np.random.exponential(MEAN_SERVICE_TIME)\n",
    "                    depature_schedule.append(i+rand_departure_time)\n",
    "\n",
    "        departing_ships = [j for j in range(len(depature_schedule)) if round(depature_schedule[j]) == i]\n",
    "        if len(departing_ships)>0:\n",
    "            number_of_departing_ships = len(departing_ships)\n",
    "            for ship in range(number_of_departing_ships):      \n",
    "                jess_station.depart_ship()                \n",
    "\n",
    "    return(jess_station.get_reviews())"
   ]
  },
  {
   "cell_type": "code",
   "execution_count": 10,
   "id": "8b5ee38e",
   "metadata": {},
   "outputs": [
    {
     "name": "stdout",
     "output_type": "stream",
     "text": [
      "866 happy ships\n",
      "134 sad ships\n",
      "1000 total ships\n"
     ]
    }
   ],
   "source": [
    "r1 = run_simulation()"
   ]
  },
  {
   "cell_type": "code",
   "execution_count": null,
   "id": "8045ce72",
   "metadata": {},
   "outputs": [],
   "source": []
  }
 ],
 "metadata": {
  "kernelspec": {
   "display_name": "Python 3 (ipykernel)",
   "language": "python",
   "name": "python3"
  },
  "language_info": {
   "codemirror_mode": {
    "name": "ipython",
    "version": 3
   },
   "file_extension": ".py",
   "mimetype": "text/x-python",
   "name": "python",
   "nbconvert_exporter": "python",
   "pygments_lexer": "ipython3",
   "version": "3.10.11"
  }
 },
 "nbformat": 4,
 "nbformat_minor": 5
}
